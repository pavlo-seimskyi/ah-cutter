{
 "cells": [
  {
   "cell_type": "code",
   "execution_count": 2,
   "metadata": {},
   "outputs": [
    {
     "name": "stderr",
     "output_type": "stream",
     "text": [
      "c:\\users\\dicey\\anaconda3\\envs\\audio_seth\\lib\\site-packages\\pydub\\utils.py:165: RuntimeWarning: Couldn't find ffmpeg or avconv - defaulting to ffmpeg, but may not work\n",
      "  warn(\"Couldn't find ffmpeg or avconv - defaulting to ffmpeg, but may not work\", RuntimeWarning)\n"
     ]
    }
   ],
   "source": [
    "import librosa\n",
    "from librosa import display\n",
    "import matplotlib.pyplot as plt\n",
    "from librosa.core import resample, to_mono\n",
    "import os\n",
    "import glob\n",
    "import numpy as np\n",
    "import pandas as pd\n",
    "import scipy\n",
    "from fft_plot import fft_plot\n",
    "from scipy.io import wavfile\n",
    "from scipy import fftpack\n",
    "from IPython.display import Audio\n",
    "from pydub import AudioSegment\n",
    "from pydub.utils import make_chunks"
   ]
  },
  {
   "cell_type": "markdown",
   "metadata": {},
   "source": [
    "**Loading the first wave file**"
   ]
  },
  {
   "cell_type": "code",
   "execution_count": 3,
   "metadata": {},
   "outputs": [],
   "source": [
    "wav_path = os.path.join('./audiofiles/1/interview-cecilia-tham_recording-1_2020-05-25--t04-10-08pm--cecilia-1424.wav')"
   ]
  },
  {
   "cell_type": "code",
   "execution_count": 4,
   "metadata": {},
   "outputs": [],
   "source": [
    "wav, rate = librosa.load(wav_path, sr=48000)"
   ]
  },
  {
   "cell_type": "markdown",
   "metadata": {},
   "source": [
    "**Converting from 48 kHz to 16 kHz**"
   ]
  },
  {
   "cell_type": "code",
   "execution_count": 5,
   "metadata": {},
   "outputs": [],
   "source": [
    "wav = resample(wav, rate, 16000)"
   ]
  },
  {
   "cell_type": "markdown",
   "metadata": {},
   "source": [
    "**Converted! Let's plot the wave file.** This is time-domain. Amplitude = 0 represents silence."
   ]
  },
  {
   "cell_type": "code",
   "execution_count": 6,
   "metadata": {},
   "outputs": [
    {
     "data": {
      "text/plain": [
       "Text(0, 0.5, 'Amplitude')"
      ]
     },
     "execution_count": 6,
     "metadata": {},
     "output_type": "execute_result"
    },
    {
     "data": {
      "image/png": "[encoded data removed]",
      "text/plain": [
       "<Figure size 432x288 with 1 Axes>"
      ]
     },
     "metadata": {
      "needs_background": "light"
     },
     "output_type": "display_data"
    }
   ],
   "source": [
    "plt.plot(wav)\n",
    "plt.xlabel(\"Samples (16000 = 1 second) -->\")\n",
    "plt.ylabel(\"Amplitude\")"
   ]
  },
  {
   "cell_type": "markdown",
   "metadata": {},
   "source": [
    "**Perform Fourier transform!** This is frequency-domain"
   ]
  },
  {
   "cell_type": "markdown",
   "metadata": {},
   "source": [
    "1. Apply DFT to **windowed** segments of data.\n",
    "2. Display DFT coefficients as a function of time and frequency.\n",
    "The bigger the L, the less detail we get on each piece of audio. Because the frequencies get mashed up together. BUT: The detail "
   ]
  },
  {
   "cell_type": "code",
   "execution_count": null,
   "metadata": {},
   "outputs": [],
   "source": [
    "#wav_fft = scipy.fft.fft(wav)"
   ]
  },
  {
   "cell_type": "code",
   "execution_count": null,
   "metadata": {
    "scrolled": true
   },
   "outputs": [],
   "source": [
    "#plt.plot(wav_fft)"
   ]
  },
  {
   "cell_type": "code",
   "execution_count": null,
   "metadata": {},
   "outputs": [],
   "source": [
    "# def fft_plot(audio, sampling_rate):\n",
    "#   n = len(audio)\n",
    "#   T = 1/sampling_rate\n",
    "#   yf = scipy.fft.fft(audio)\n",
    "#   xf = np.linspace(0.0, sampling_rate/2.0, int(n/2))\n",
    "#   fig, ax = plt.subplots()\n",
    "#   ax.plot(xf, 2.0/n * np.abs(yf[:n//2]))\n",
    "#   plt.grid()\n",
    "#   plt.xlabel(\"Frequency -->\")\n",
    "#   plt.ylabel(\"Magnitude\")\n",
    "#   return plt.show()"
   ]
  },
  {
   "cell_type": "code",
   "execution_count": null,
   "metadata": {},
   "outputs": [],
   "source": [
    "#fft_plot(wav, 16000)"
   ]
  },
  {
   "cell_type": "code",
   "execution_count": null,
   "metadata": {},
   "outputs": [],
   "source": [
    "# def spectrogram(samples, sample_rate, stride_ms = 10.0, \n",
    "#                           window_ms = 20.0, max_freq = None, eps = 1e-14):\n",
    "\n",
    "#     stride_size = int(0.001 * sample_rate * stride_ms)\n",
    "#     window_size = int(0.001 * sample_rate * window_ms)\n",
    "\n",
    "#     # Extract strided windows\n",
    "#     truncate_size = (len(samples) - window_size) % stride_size\n",
    "#     samples = samples[:len(samples) - truncate_size]\n",
    "#     nshape = (window_size, (len(samples) - window_size) // stride_size + 1)\n",
    "#     nstrides = (samples.strides[0], samples.strides[0] * stride_size)\n",
    "#     windows = np.lib.stride_tricks.as_strided(samples, \n",
    "#                                           shape = nshape, strides = nstrides)\n",
    "    \n",
    "#     assert np.all(windows[:, 1] == samples[stride_size:(stride_size + window_size)])\n",
    "\n",
    "#     # Window weighting, squared Fast Fourier Transform (fft), scaling\n",
    "#     weighting = np.hanning(window_size)[:, None]\n",
    "    \n",
    "#     fft = np.fft.rfft(windows * weighting, axis=0)\n",
    "#     fft = np.absolute(fft)\n",
    "#     fft = fft**2\n",
    "    \n",
    "#     scale = np.sum(weighting**2) * sample_rate\n",
    "#     fft[1:-1, :] *= (2.0 / scale)\n",
    "#     fft[(0, -1), :] /= scale\n",
    "    \n",
    "#     # Prepare fft frequency list\n",
    "#     freqs = float(sample_rate) / window_size * np.arange(fft.shape[0])\n",
    "    \n",
    "#     # Compute spectrogram feature\n",
    "#     ind = np.where(freqs <= max_freq)[0][-1] + 1\n",
    "#     specgram = np.log(fft[:ind, :] + eps)\n",
    "#     return specgram"
   ]
  },
  {
   "cell_type": "code",
   "execution_count": null,
   "metadata": {},
   "outputs": [],
   "source": [
    "# wav_stft = scipy.signal.stft(wav)"
   ]
  },
  {
   "cell_type": "code",
   "execution_count": null,
   "metadata": {},
   "outputs": [],
   "source": [
    "# plt.specgram(wav, Fs=16000, NFFT=256, noverlap=128)\n",
    "# plt.show()"
   ]
  },
  {
   "cell_type": "markdown",
   "metadata": {},
   "source": [
    "**Slice the audio files into 0.1 sec chunks**"
   ]
  },
  {
   "cell_type": "code",
   "execution_count": null,
   "metadata": {},
   "outputs": [],
   "source": [
    "chunk_length_ms = 100 # pydub calculates in millisec"
   ]
  },
  {
   "cell_type": "code",
   "execution_count": null,
   "metadata": {},
   "outputs": [],
   "source": [
    "# wav_dst_0 = os.path.join('./audiofiles_chunks/0/')\n",
    "# path_0 = './audiofiles/0/'\n",
    "# count = 0\n",
    "# for filename in glob.glob(os.path.join(path_0, '*.wav')):\n",
    "#     myaudio = AudioSegment.from_file(filename) # ex: ./audiofiles/recording1.wav\n",
    "#     chunk_length_ms = 100 # input in millisec\n",
    "#     chunks = make_chunks(myaudio, chunk_length_ms) #Make chunks of 0.1 sec\n",
    "#     count = count + 1\n",
    "#     for i, chunk in enumerate(chunks):\n",
    "#         chunk_name = str(count) + \"chunk{0}.wav\".format(i)\n",
    "#         print(\"exporting\", chunk_name)\n",
    "#         chunk.export(out_f = wav_dst_0 + chunk_name, format=\"wav\")"
   ]
  },
  {
   "cell_type": "code",
   "execution_count": null,
   "metadata": {},
   "outputs": [],
   "source": [
    "# wav_dst_1 = os.path.join('./audiofiles_chunks/1/')\n",
    "# path_1 = './audiofiles/1/'\n",
    "# count = 0\n",
    "# for filename in glob.glob(os.path.join(path_1, '*.wav')):\n",
    "#     myaudio = AudioSegment.from_file(filename)\n",
    "#     chunks = make_chunks(myaudio, chunk_length_ms) #Make chunks of one sec\n",
    "#     count = count + 1\n",
    "#     for i, chunk in enumerate(chunks):\n",
    "#         chunk_name = str(count) + \"chunk{0}.wav\".format(i)\n",
    "#         print(\"exporting\", chunk_name)\n",
    "#         chunk.export(out_f = wav_dst_1 + chunk_name, format=\"wav\")"
   ]
  },
  {
   "cell_type": "markdown",
   "metadata": {},
   "source": [
    "**Create Spectrograms of each of the 0.1 sec chopped audio slices** "
   ]
  },
  {
   "cell_type": "markdown",
   "metadata": {},
   "source": [
    "Test an image saving"
   ]
  },
  {
   "cell_type": "code",
   "execution_count": null,
   "metadata": {},
   "outputs": [],
   "source": [
    "# test_path = glob.glob(os.path.join(chunk_path, '*.wav'))[19535:19565] # os.path.join('./audiofiles_chunks/0/1chunk0.wav') # the first 0.1 sec long chunk\n",
    "# test_wav, rate = librosa.load(test_path, sr=16000) # load data and convert to 16 khz\n",
    "# spectro = plt.figure(figsize=(0.97,1), dpi=298)\n",
    "# spectro = plt.specgram(test_wav, Fs=16000, NFFT=32, noverlap=16) # create a spectrogram\n",
    "# spectro = plt.gca().set_axis_off() # remove the axis text\n",
    "# plt.savefig('./images/test/test2.png', format='png', pad_inches=0, bbox_inches='tight')\n",
    "# plt.close('all')"
   ]
  },
  {
   "cell_type": "code",
   "execution_count": null,
   "metadata": {
    "scrolled": true
   },
   "outputs": [],
   "source": [
    "# count = 0\n",
    "# for wav in glob.glob(os.path.join('./audiofiles_chunks/0/', '*.wav')) :\n",
    "#     test_wav, rate = librosa.load(wav, sr=16000) # load data and convert to 16 khz\n",
    "#     spectro = plt.figure(figsize=(0.97,1), dpi=298)\n",
    "#     spectro = plt.specgram(test_wav, Fs=16000, NFFT=32, noverlap=16) # create a spectrogram\n",
    "#     spectro = plt.gca().set_axis_off() # remove the axis text\n",
    "#     count = count + 1\n",
    "#     wav_name = 'test' + str(count) + '.jpg'\n",
    "#     plt.savefig('./images/test/' + wav_name, format='jpg', pad_inches=0, bbox_inches='tight')\n",
    "#     plt.close('all')"
   ]
  },
  {
   "cell_type": "markdown",
   "metadata": {},
   "source": [
    "Save all the plots"
   ]
  },
  {
   "cell_type": "markdown",
   "metadata": {},
   "source": [
    "First, the images with 0 class."
   ]
  },
  {
   "cell_type": "code",
   "execution_count": null,
   "metadata": {
    "scrolled": true
   },
   "outputs": [],
   "source": [
    "# count = 0\n",
    "\n",
    "# for filename in glob.glob(os.path.join('./audiofiles_chunks/0/', '*.wav')) :\n",
    "#     audiofile, rate = librosa.load(filename, sr=16000) # load and convert to 16 khz\n",
    "#     spectro = plt.figure(figsize=(0.97,1), dpi=298)\n",
    "#     spectro = plt.specgram(audiofile, Fs=16000, NFFT=32, noverlap=16) # create a spectrogram\n",
    "#     spectro = plt.gca().set_axis_off() # remove the axis text\n",
    "#     count = count + 1\n",
    "#     plot_name = str(count) + '.jpg'\n",
    "#     plt.savefig(fname='./images/0/' + plot_name, format='jpg', pad_inches=0, bbox_inches='tight')\n",
    "#     plt.close('all')"
   ]
  },
  {
   "cell_type": "markdown",
   "metadata": {},
   "source": [
    "Then, the images with 1 class."
   ]
  },
  {
   "cell_type": "code",
   "execution_count": null,
   "metadata": {},
   "outputs": [],
   "source": [
    "# count = 0\n",
    "\n",
    "# for filename in glob.glob(os.path.join('./audiofiles_chunks/1/', '*.wav')) :\n",
    "#     audiofile, rate = librosa.load(filename, sr=16000) # load and convert to 16 khz\n",
    "#     spectro = plt.figure(figsize=(0.97,1), dpi=298)\n",
    "#     spectro = plt.specgram(audiofile, Fs=16000, NFFT=32, noverlap=16) # create a spectrogram\n",
    "#     spectro = plt.gca().set_axis_off() # remove the axis text\n",
    "#     count = count + 1\n",
    "#     plot_name = str(count) + '.jpg'\n",
    "#     plt.savefig(fname='./images/1/' + plot_name, format='jpg', pad_inches=0, bbox_inches='tight')\n",
    "#     plt.close('all')"
   ]
  }
 ],
 "metadata": {
  "kernelspec": {
   "display_name": "audio_seth",
   "language": "python",
   "name": "audio_seth"
  },
  "language_info": {
   "codemirror_mode": {
    "name": "ipython",
    "version": 3
   },
   "file_extension": ".py",
   "mimetype": "text/x-python",
   "name": "python",
   "nbconvert_exporter": "python",
   "pygments_lexer": "ipython3",
   "version": "3.7.7"
  }
 },
 "nbformat": 4,
 "nbformat_minor": 4
}
