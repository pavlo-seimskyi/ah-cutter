{
 "cells": [
  {
   "cell_type": "markdown",
   "metadata": {},
   "source": [
    "## Train the model"
   ]
  },
  {
   "cell_type": "markdown",
   "metadata": {},
   "source": [
    "**Images from `images/0` and `images/1` are used to train the classifier and the folder names refer to the class: 1 is a filler sound while 0 is not.**"
   ]
  },
  {
   "cell_type": "code",
   "execution_count": 1,
   "metadata": {},
   "outputs": [],
   "source": [
    "from fastai.vision.all import *\n",
    "from fastbook import *"
   ]
  },
  {
   "cell_type": "code",
   "execution_count": 2,
   "metadata": {
    "scrolled": true
   },
   "outputs": [],
   "source": [
    "#path = untar_data(dest = './images')/'images'\n",
    "path = os.path.join('./images/')\n",
    "\n",
    "def is_ah(x) : return x.parent.name\n",
    "\n",
    "dls = ImageDataLoaders.from_path_func(\n",
    "    path, get_image_files(path), num_workers=0 , valid_pct=0.2, seed=42,\n",
    "    label_func=is_ah) # added num_workers = 0\n",
    "\n",
    "precision = Precision()\n",
    "recall = Recall()\n",
    "f1score = F1Score()\n",
    "\n",
    "learn = cnn_learner(dls, resnet34, metrics=[precision, recall, f1score])"
   ]
  },
  {
   "cell_type": "markdown",
   "metadata": {},
   "source": [
    "Find a suitable learning rate"
   ]
  },
  {
   "cell_type": "code",
   "execution_count": 3,
   "metadata": {},
   "outputs": [
    {
     "data": {
      "text/html": [],
      "text/plain": [
       "<IPython.core.display.HTML object>"
      ]
     },
     "metadata": {},
     "output_type": "display_data"
    },
    {
     "data": {
      "text/plain": [
       "SuggestedLRs(lr_min=0.017378008365631102, lr_steep=2.2908675418875646e-06)"
      ]
     },
     "execution_count": 3,
     "metadata": {},
     "output_type": "execute_result"
    },
    {
     "data": {
      "image/png": "[encoded data removed]",
      "text/plain": [
       "<Figure size 432x288 with 1 Axes>"
      ]
     },
     "metadata": {
      "needs_background": "light"
     },
     "output_type": "display_data"
    }
   ],
   "source": [
    "learn.lr_find()"
   ]
  },
  {
   "cell_type": "markdown",
   "metadata": {},
   "source": [
    "Fine-tune with the selected learning rate"
   ]
  },
  {
   "cell_type": "code",
   "execution_count": 16,
   "metadata": {},
   "outputs": [
    {
     "data": {
      "text/html": [
       "<table border=\"1\" class=\"dataframe\">\n",
       "  <thead>\n",
       "    <tr style=\"text-align: left;\">\n",
       "      <th>epoch</th>\n",
       "      <th>train_loss</th>\n",
       "      <th>valid_loss</th>\n",
       "      <th>precision_score</th>\n",
       "      <th>recall_score</th>\n",
       "      <th>f1_score</th>\n",
       "      <th>time</th>\n",
       "    </tr>\n",
       "  </thead>\n",
       "  <tbody>\n",
       "    <tr>\n",
       "      <td>0</td>\n",
       "      <td>0.190637</td>\n",
       "      <td>0.154514</td>\n",
       "      <td>0.702290</td>\n",
       "      <td>0.255556</td>\n",
       "      <td>0.374745</td>\n",
       "      <td>07:46</td>\n",
       "    </tr>\n",
       "  </tbody>\n",
       "</table>"
      ],
      "text/plain": [
       "<IPython.core.display.HTML object>"
      ]
     },
     "metadata": {},
     "output_type": "display_data"
    },
    {
     "data": {
      "text/html": [
       "<table border=\"1\" class=\"dataframe\">\n",
       "  <thead>\n",
       "    <tr style=\"text-align: left;\">\n",
       "      <th>epoch</th>\n",
       "      <th>train_loss</th>\n",
       "      <th>valid_loss</th>\n",
       "      <th>precision_score</th>\n",
       "      <th>recall_score</th>\n",
       "      <th>f1_score</th>\n",
       "      <th>time</th>\n",
       "    </tr>\n",
       "  </thead>\n",
       "  <tbody>\n",
       "    <tr>\n",
       "      <td>0</td>\n",
       "      <td>0.106196</td>\n",
       "      <td>0.098533</td>\n",
       "      <td>0.700935</td>\n",
       "      <td>0.625000</td>\n",
       "      <td>0.660793</td>\n",
       "      <td>09:05</td>\n",
       "    </tr>\n",
       "    <tr>\n",
       "      <td>1</td>\n",
       "      <td>0.103316</td>\n",
       "      <td>0.126246</td>\n",
       "      <td>0.554955</td>\n",
       "      <td>0.855556</td>\n",
       "      <td>0.673224</td>\n",
       "      <td>08:34</td>\n",
       "    </tr>\n",
       "    <tr>\n",
       "      <td>2</td>\n",
       "      <td>0.092462</td>\n",
       "      <td>0.094684</td>\n",
       "      <td>0.832335</td>\n",
       "      <td>0.386111</td>\n",
       "      <td>0.527514</td>\n",
       "      <td>08:36</td>\n",
       "    </tr>\n",
       "    <tr>\n",
       "      <td>3</td>\n",
       "      <td>0.063244</td>\n",
       "      <td>0.078975</td>\n",
       "      <td>0.778523</td>\n",
       "      <td>0.644444</td>\n",
       "      <td>0.705167</td>\n",
       "      <td>09:05</td>\n",
       "    </tr>\n",
       "    <tr>\n",
       "      <td>4</td>\n",
       "      <td>0.042594</td>\n",
       "      <td>0.088784</td>\n",
       "      <td>0.697861</td>\n",
       "      <td>0.725000</td>\n",
       "      <td>0.711172</td>\n",
       "      <td>09:03</td>\n",
       "    </tr>\n",
       "    <tr>\n",
       "      <td>5</td>\n",
       "      <td>0.013595</td>\n",
       "      <td>0.114781</td>\n",
       "      <td>0.757962</td>\n",
       "      <td>0.661111</td>\n",
       "      <td>0.706231</td>\n",
       "      <td>09:03</td>\n",
       "    </tr>\n",
       "  </tbody>\n",
       "</table>"
      ],
      "text/plain": [
       "<IPython.core.display.HTML object>"
      ]
     },
     "metadata": {},
     "output_type": "display_data"
    }
   ],
   "source": [
    "learn.fine_tune(6, 0.017) # lr_min=0.017378008365631102 chosen"
   ]
  },
  {
   "cell_type": "markdown",
   "metadata": {},
   "source": [
    "Interpret the results"
   ]
  },
  {
   "cell_type": "code",
   "execution_count": 20,
   "metadata": {},
   "outputs": [
    {
     "data": {
      "text/html": [],
      "text/plain": [
       "<IPython.core.display.HTML object>"
      ]
     },
     "metadata": {},
     "output_type": "display_data"
    }
   ],
   "source": [
    "interp = ClassificationInterpretation.from_learner(learn)"
   ]
  },
  {
   "cell_type": "code",
   "execution_count": 21,
   "metadata": {},
   "outputs": [
    {
     "data": {
      "image/png": "[encoded data removed]",
      "text/plain": [
       "<Figure size 432x288 with 1 Axes>"
      ]
     },
     "metadata": {
      "needs_background": "light"
     },
     "output_type": "display_data"
    }
   ],
   "source": [
    "interp.plot_confusion_matrix()"
   ]
  },
  {
   "cell_type": "markdown",
   "metadata": {},
   "source": [
    "*Test: Predict if 0.1 sec audio chunk is \"uhm\" or not*"
   ]
  },
  {
   "cell_type": "code",
   "execution_count": 7,
   "metadata": {},
   "outputs": [],
   "source": [
    "# uploader = widgets.FileUpload()\n",
    "# uploader"
   ]
  },
  {
   "cell_type": "code",
   "execution_count": 8,
   "metadata": {},
   "outputs": [],
   "source": [
    "# img = PILImage.create(uploader.data[0])\n",
    "# is_ah,_,probs = learn.predict(img)\n",
    "# print(f\"Is this an AH?: {is_ah}.\")\n",
    "# print(f\"Probability it's a AH: {probs[1].item():.6f}\")"
   ]
  },
  {
   "cell_type": "markdown",
   "metadata": {},
   "source": [
    "## Creating predictions\n",
    "**Process the audio file 0.1 sec by 0.1 sec. In each iteration, create a spectrogram and predict whether it is an \"ah\" or not. Save all the predictions in a list.**"
   ]
  },
  {
   "cell_type": "markdown",
   "metadata": {},
   "source": [
    "**Load the audio**"
   ]
  },
  {
   "cell_type": "code",
   "execution_count": 11,
   "metadata": {},
   "outputs": [],
   "source": [
    "# import librosa\n",
    "# import matplotlib.pyplot as plt\n",
    "# import os\n",
    "# import glob\n",
    "# from pydub import AudioSegment\n",
    "# from pydub.utils import make_chunks\n",
    "# import io\n",
    "# from PIL import Image\n",
    "# import numpy as np\n",
    "# from scipy.io import wavfile"
   ]
  },
  {
   "cell_type": "code",
   "execution_count": 12,
   "metadata": {},
   "outputs": [],
   "source": [
    "# audio_path = os.path.join('./audio_full/test1.wav')\n",
    "# audio_full, rate = librosa.load(audio_path, sr=16000) # load and convert to 16 khz"
   ]
  },
  {
   "cell_type": "code",
   "execution_count": 13,
   "metadata": {},
   "outputs": [],
   "source": [
    "# audio_mins = len(audio_full)/16000/60 # this is the length of the audio in  minutes (16000 samples/amplitude values per second)\n",
    "# print(f'The loaded audio is {audio_mins[:2]} minutes long')"
   ]
  },
  {
   "cell_type": "markdown",
   "metadata": {},
   "source": [
    "**First, test how images are extracted**"
   ]
  },
  {
   "cell_type": "markdown",
   "metadata": {},
   "source": [
    "Testing the first 10 seconds of the audio. 100 images will be exported, each one for 0.1 seconds of audio. The images will be saved in `/test/images/`"
   ]
  },
  {
   "cell_type": "code",
   "execution_count": 14,
   "metadata": {},
   "outputs": [],
   "source": [
    "step = 1600 # 0.1 second steps\n",
    "count = 0\n",
    "timeline = [] # all the predictions will be saved here\n",
    "\n",
    "# This will process just the first 10 seconds of the audio (160000 samples in total)\n",
    "# Change the second index number '160000' to adjust how long a piece of processed audio should be\n",
    "for audio_chunk in audio_full[:160000:1600] :\n",
    "    count = count + 1\n",
    "    stop = count * step # 1600, 3200, 4800, ...\n",
    "    start = stop - step # 0, 1600, 3200, ...\n",
    "    audio = audio_full[start:stop]\n",
    "\n",
    "    plt.figure(figsize=(0.97,1), dpi=298)\n",
    "    plt.specgram(audio, Fs=16000, NFFT=32, noverlap=16) # create a spectrogram\n",
    "    plt.gca().set_axis_off() # remove the axis text\n",
    "    # plt.savefig('./test/images' + str(count) + '.jpg', format='jpg', dpi=298, pad_inches=0, bbox_inches='tight')\n",
    "    \n",
    "    # convert the figure to bytes\n",
    "    buf = io.BytesIO()\n",
    "    plt.savefig(buf, format='jpg', dpi=298, pad_inches=0, bbox_inches='tight')\n",
    "    buf.seek(0)\n",
    "    \n",
    "    # convert the image from bytes to PIL\n",
    "    img = PILImage.create(buf)\n",
    "    # show the probability for this 0.1 piece of audio to be an \"ah\"\n",
    "    is_ah,_,probs = learn.predict(img)\n",
    "    timeline.append(is_ah)\n",
    "    \n",
    "    plt.close('all')\n",
    "    buf.close()"
   ]
  },
  {
   "cell_type": "markdown",
   "metadata": {},
   "source": [
    "**Now get predictions for the whole audio**"
   ]
  },
  {
   "cell_type": "code",
   "execution_count": 15,
   "metadata": {},
   "outputs": [],
   "source": [
    "# step = 1600 # 0.1 second steps\n",
    "# count = 0\n",
    "# timeline = []\n",
    "\n",
    "# for audio_chunk in audio_full[::1600] :\n",
    "#     count = count + 1\n",
    "#     stop = count * step # 1600, 3200, 4800, ...\n",
    "#     start = stop - step # 0, 1600, 3200, ...\n",
    "#     audio = audio_full[0][start:stop]\n",
    "    \n",
    "#     plt.figure(figsize=(0.97,1), dpi=298)\n",
    "#     plt.specgram(audio, Fs=16000, NFFT=32, noverlap=16) # create a spectrogram\n",
    "#     plt.gca().set_axis_off() # remove the axis text\n",
    "#     # THE PROBLEM: All the predictions are 0.\n",
    "#     # Reason? Not sure if plots that are converted to bytes still have white space around which makes them unrecognizable \n",
    "#     # for the model.\n",
    "    \n",
    "#     # convert the figure to bytes\n",
    "#     buf = io.BytesIO()\n",
    "#     plt.savefig(buf, format='jpg', dpi=298, pad_inches=0, bbox_inches='tight')\n",
    "#     buf.seek(0)\n",
    "    \n",
    "#     # convert the image from bytes to PIL\n",
    "#     img = PILImage.create(buf)\n",
    "#     # show the probability for this 0.1 piece of audio to be an \"ah\"\n",
    "#     is_ah,_,probs = learn.predict(img)\n",
    "#     timeline.append(is_ah)\n",
    "#     print(is_ah, probs)\n",
    "    \n",
    "#     plt.close('all')\n",
    "#     buf.close()"
   ]
  }
 ],
 "metadata": {
  "kernelspec": {
   "display_name": "Python [conda env:audio]",
   "language": "python",
   "name": "conda-env-audio-py"
  },
  "language_info": {
   "codemirror_mode": {
    "name": "ipython",
    "version": 3
   },
   "file_extension": ".py",
   "mimetype": "text/x-python",
   "name": "python",
   "nbconvert_exporter": "python",
   "pygments_lexer": "ipython3",
   "version": "3.8.5"
  }
 },
 "nbformat": 4,
 "nbformat_minor": 4
}
