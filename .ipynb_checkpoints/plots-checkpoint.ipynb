{
 "cells": [
  {
   "cell_type": "code",
   "execution_count": 1,
   "metadata": {},
   "outputs": [],
   "source": [
    "import os\n",
    "import matplotlib.pyplot as plt\n",
    "from scipy.io import wavfile\n",
    "import kapre\n",
    "import numpy as np\n",
    "from tensorflow.keras.models import Sequential\n",
    "from tensorflow.keras.layers import Lambda, Permute\n",
    "from kapre.time_frequency import Melspectrogram, Spectrogram\n",
    "\n",
    "plt.style.use('ggplot')"
   ]
  },
  {
   "cell_type": "code",
   "execution_count": 2,
   "metadata": {},
   "outputs": [
    {
     "name": "stderr",
     "output_type": "stream",
     "text": [
      "C:\\Users\\Dicey\\anaconda3\\envs\\audio_seth\\lib\\site-packages\\librosa\\filters.py:196: FutureWarning: norm=1 behavior will change in librosa 0.8.0. To maintain forward compatibility, use norm='slaney' instead.\n",
      "  FutureWarning)\n"
     ]
    }
   ],
   "source": [
    "stft_model = Sequential()\n",
    "stft_model.add(Spectrogram(n_dft=512, n_hop=160, input_shape=(1,16000),\n",
    "                           return_decibel_spectrogram=True,\n",
    "                           trainable_kernel=False, name='spectrogram'))\n",
    "\n",
    "mel_model = Sequential()\n",
    "mel_model.add(Melspectrogram(sr=16000, n_mels=128, \n",
    "              n_dft=512, n_hop=160, input_shape=(1,16000), \n",
    "              return_decibel_melgram=True,\n",
    "              trainable_kernel=False, name='melspectrogram'))"
   ]
  },
  {
   "cell_type": "code",
   "execution_count": 3,
   "metadata": {},
   "outputs": [],
   "source": [
    "def plot_signals_time(titles, signals):\n",
    "    \n",
    "    nrows, ncols = 2, 5\n",
    "    fig, ax = plt.subplots(nrows, ncols, figsize=(16, 6))\n",
    "    \n",
    "    z = 0\n",
    "    for i in range(nrows):\n",
    "        for y in range(ncols):\n",
    "            ax[i,y].set_title(titles[z])\n",
    "            ax[i,y].plot(signals[z])\n",
    "            ax[i,y].set_xticks([])\n",
    "            ax[i,y].set_yticks([])\n",
    "            ax[i,y].grid(False)\n",
    "            z += 1\n",
    "    \n",
    "    plt.show()"
   ]
  },
  {
   "cell_type": "code",
   "execution_count": 4,
   "metadata": {},
   "outputs": [],
   "source": [
    "def plot_spectrogram(titles, signals, title, shape=(16,8)):\n",
    "    nrows, ncols = 2, 5\n",
    "    fig, ax = plt.subplots(nrows, ncols, figsize=shape)\n",
    "    fig.suptitle(title, size=20)\n",
    "    plt.set_cmap('viridis')\n",
    "    \n",
    "    z = 0\n",
    "    for i in range(nrows):\n",
    "        for y in range(ncols):\n",
    "            ax[i,y].set_title(titles[z])\n",
    "            ax[i,y].imshow(signals[z].squeeze())\n",
    "            ax[i,y].set_xticks([])\n",
    "            ax[i,y].set_yticks([])\n",
    "            ax[i,y].grid(False)\n",
    "            z += 1\n",
    "    \n",
    "    plt.show()"
   ]
  },
  {
   "cell_type": "code",
   "execution_count": 5,
   "metadata": {
    "scrolled": false
   },
   "outputs": [
    {
     "ename": "FileNotFoundError",
     "evalue": "[WinError 3] The system cannot find the path specified: '../clean'",
     "output_type": "error",
     "traceback": [
      "\u001b[1;31m---------------------------------------------------------------------------\u001b[0m",
      "\u001b[1;31mFileNotFoundError\u001b[0m                         Traceback (most recent call last)",
      "\u001b[1;32m<ipython-input-5-1677cd38311a>\u001b[0m in \u001b[0;36m<module>\u001b[1;34m\u001b[0m\n\u001b[0;32m      1\u001b[0m \u001b[0msrc_root\u001b[0m \u001b[1;33m=\u001b[0m \u001b[1;34m'../clean'\u001b[0m\u001b[1;33m\u001b[0m\u001b[1;33m\u001b[0m\u001b[0m\n\u001b[0;32m      2\u001b[0m \u001b[1;33m\u001b[0m\u001b[0m\n\u001b[1;32m----> 3\u001b[1;33m \u001b[0mclasses\u001b[0m \u001b[1;33m=\u001b[0m \u001b[0mos\u001b[0m\u001b[1;33m.\u001b[0m\u001b[0mlistdir\u001b[0m\u001b[1;33m(\u001b[0m\u001b[0msrc_root\u001b[0m\u001b[1;33m)\u001b[0m\u001b[1;33m\u001b[0m\u001b[1;33m\u001b[0m\u001b[0m\n\u001b[0m\u001b[0;32m      4\u001b[0m \u001b[0msignals\u001b[0m \u001b[1;33m=\u001b[0m \u001b[1;33m[\u001b[0m\u001b[1;33m]\u001b[0m\u001b[1;33m\u001b[0m\u001b[1;33m\u001b[0m\u001b[0m\n\u001b[0;32m      5\u001b[0m \u001b[0mtitles\u001b[0m \u001b[1;33m=\u001b[0m \u001b[1;33m[\u001b[0m\u001b[1;33m]\u001b[0m\u001b[1;33m\u001b[0m\u001b[1;33m\u001b[0m\u001b[0m\n",
      "\u001b[1;31mFileNotFoundError\u001b[0m: [WinError 3] The system cannot find the path specified: '../clean'"
     ]
    }
   ],
   "source": [
    "src_root = '../clean'\n",
    "\n",
    "classes = os.listdir(src_root)\n",
    "signals = []\n",
    "titles = []\n",
    "stft_specs = []\n",
    "mel_specs = []\n",
    "\n",
    "for _cls in sorted(classes):\n",
    "    for fn in sorted(os.listdir(os.path.join(src_root, _cls))):\n",
    "        rate, wav = wavfile.read(os.path.join(src_root, _cls, fn))\n",
    "        signals.append(wav)\n",
    "        titles.append(_cls)\n",
    "        \n",
    "        wav = wav.reshape(1, 1, -1)\n",
    "        spec = stft_model.predict(wav)\n",
    "        mel = mel_model.predict(wav)\n",
    "        stft_specs.append(spec)\n",
    "        mel_specs.append(mel)\n",
    "        break\n",
    "\n",
    "plot_signals_time(titles, signals)"
   ]
  },
  {
   "cell_type": "code",
   "execution_count": null,
   "metadata": {},
   "outputs": [],
   "source": [
    "plot_spectrogram(titles, stft_specs, title= 'Decibel Spectrograms (257 x 100)',shape=(12,12))"
   ]
  },
  {
   "cell_type": "code",
   "execution_count": null,
   "metadata": {},
   "outputs": [],
   "source": [
    "plot_spectrogram(titles, mel_specs, title='Mel Spectrograms (128 x 100)', shape=(16,8))"
   ]
  },
  {
   "cell_type": "code",
   "execution_count": null,
   "metadata": {},
   "outputs": [],
   "source": [
    "rate, wav = wavfile.read(os.path.join(src_root, 'Acoustic_guitar', '0eeaebcb_0.wav'))\n",
    "\n",
    "plt.plot(wav)\n",
    "plt.title('Acoustic Guitar (time domain)', size=20)\n",
    "plt.grid(False)\n",
    "locs, labels = plt.xticks()\n",
    "plt.xticks(locs, ['0.0', '0.1', '0.2', '0,3', '0.4', '0.5', '0.6', '0.7', '0.8', '0.9', '1.0', ''])\n",
    "plt.ylabel('Amplitude (16 bits)', size=18)\n",
    "plt.xlabel('Time (seconds)', size=18)\n",
    "plt.show()"
   ]
  },
  {
   "cell_type": "code",
   "execution_count": null,
   "metadata": {},
   "outputs": [],
   "source": [
    "fft = np.fft.rfft(wav)\n",
    "plt.plot(np.abs(fft)/np.sum(np.abs(fft)))\n",
    "plt.title('Acoustic Guitar (frequency domain)', size=20)\n",
    "plt.grid(False)\n",
    "plt.yticks(fontsize=12)\n",
    "plt.xticks(fontsize=12)\n",
    "plt.ylabel('Magnitude (norm)', size=18)\n",
    "plt.xlabel('Frequency (hertz)', size=18)\n",
    "plt.show()"
   ]
  },
  {
   "cell_type": "code",
   "execution_count": null,
   "metadata": {},
   "outputs": [],
   "source": []
  }
 ],
 "metadata": {
  "kernelspec": {
   "display_name": "Python [conda env:audio_seth]",
   "language": "python",
   "name": "conda-env-audio_seth-py"
  },
  "language_info": {
   "codemirror_mode": {
    "name": "ipython",
    "version": 3
   },
   "file_extension": ".py",
   "mimetype": "text/x-python",
   "name": "python",
   "nbconvert_exporter": "python",
   "pygments_lexer": "ipython3",
   "version": "3.7.7"
  }
 },
 "nbformat": 4,
 "nbformat_minor": 2
}
